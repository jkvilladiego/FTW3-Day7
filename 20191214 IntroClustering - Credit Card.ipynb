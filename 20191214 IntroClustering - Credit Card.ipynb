{
 "cells": [
  {
   "cell_type": "code",
   "execution_count": 1,
   "metadata": {
    "colab": {},
    "colab_type": "code",
    "id": "lc-uZ_ZhN44k"
   },
   "outputs": [],
   "source": [
    "import pandas as pd\n",
    "import numpy as np\n",
    "import matplotlib.pyplot as plt\n",
    "import seaborn as sns"
   ]
  },
  {
   "cell_type": "markdown",
   "metadata": {
    "colab_type": "text",
    "id": "LheBPT9zOi03"
   },
   "source": [
    "### Load Data"
   ]
  },
  {
   "cell_type": "code",
   "execution_count": 2,
   "metadata": {
    "colab": {},
    "colab_type": "code",
    "id": "JXDvb0xDOQ98"
   },
   "outputs": [],
   "source": [
    "data = pd.read_csv(\"credit_card_clustering.csv\")"
   ]
  },
  {
   "cell_type": "code",
   "execution_count": 3,
   "metadata": {
    "colab": {
     "base_uri": "https://localhost:8080/",
     "height": 204
    },
    "colab_type": "code",
    "id": "riPA2EWpOUZa",
    "outputId": "d94bbee8-b995-4af7-e413-bbe596f20d38"
   },
   "outputs": [
    {
     "data": {
      "text/html": [
       "<div>\n",
       "<style scoped>\n",
       "    .dataframe tbody tr th:only-of-type {\n",
       "        vertical-align: middle;\n",
       "    }\n",
       "\n",
       "    .dataframe tbody tr th {\n",
       "        vertical-align: top;\n",
       "    }\n",
       "\n",
       "    .dataframe thead th {\n",
       "        text-align: right;\n",
       "    }\n",
       "</style>\n",
       "<table border=\"1\" class=\"dataframe\">\n",
       "  <thead>\n",
       "    <tr style=\"text-align: right;\">\n",
       "      <th></th>\n",
       "      <th>CUST_ID</th>\n",
       "      <th>BALANCE</th>\n",
       "      <th>BALANCE_FREQUENCY</th>\n",
       "      <th>PURCHASES</th>\n",
       "      <th>ONEOFF_PURCHASES</th>\n",
       "      <th>INSTALLMENTS_PURCHASES</th>\n",
       "      <th>CASH_ADVANCE</th>\n",
       "      <th>PURCHASES_FREQUENCY</th>\n",
       "      <th>ONEOFF_PURCHASES_FREQUENCY</th>\n",
       "      <th>PURCHASES_INSTALLMENTS_FREQUENCY</th>\n",
       "      <th>CASH_ADVANCE_FREQUENCY</th>\n",
       "      <th>CASH_ADVANCE_TRX</th>\n",
       "      <th>PURCHASES_TRX</th>\n",
       "      <th>CREDIT_LIMIT</th>\n",
       "      <th>PAYMENTS</th>\n",
       "      <th>MINIMUM_PAYMENTS</th>\n",
       "      <th>PRC_FULL_PAYMENT</th>\n",
       "      <th>TENURE</th>\n",
       "    </tr>\n",
       "  </thead>\n",
       "  <tbody>\n",
       "    <tr>\n",
       "      <td>0</td>\n",
       "      <td>C10001</td>\n",
       "      <td>40.900749</td>\n",
       "      <td>0.818182</td>\n",
       "      <td>95.40</td>\n",
       "      <td>0.00</td>\n",
       "      <td>95.4</td>\n",
       "      <td>0.000000</td>\n",
       "      <td>0.166667</td>\n",
       "      <td>0.000000</td>\n",
       "      <td>0.083333</td>\n",
       "      <td>0.000000</td>\n",
       "      <td>0</td>\n",
       "      <td>2</td>\n",
       "      <td>1000.0</td>\n",
       "      <td>201.802084</td>\n",
       "      <td>139.509787</td>\n",
       "      <td>0.000000</td>\n",
       "      <td>12</td>\n",
       "    </tr>\n",
       "    <tr>\n",
       "      <td>1</td>\n",
       "      <td>C10002</td>\n",
       "      <td>3202.467416</td>\n",
       "      <td>0.909091</td>\n",
       "      <td>0.00</td>\n",
       "      <td>0.00</td>\n",
       "      <td>0.0</td>\n",
       "      <td>6442.945483</td>\n",
       "      <td>0.000000</td>\n",
       "      <td>0.000000</td>\n",
       "      <td>0.000000</td>\n",
       "      <td>0.250000</td>\n",
       "      <td>4</td>\n",
       "      <td>0</td>\n",
       "      <td>7000.0</td>\n",
       "      <td>4103.032597</td>\n",
       "      <td>1072.340217</td>\n",
       "      <td>0.222222</td>\n",
       "      <td>12</td>\n",
       "    </tr>\n",
       "    <tr>\n",
       "      <td>2</td>\n",
       "      <td>C10003</td>\n",
       "      <td>2495.148862</td>\n",
       "      <td>1.000000</td>\n",
       "      <td>773.17</td>\n",
       "      <td>773.17</td>\n",
       "      <td>0.0</td>\n",
       "      <td>0.000000</td>\n",
       "      <td>1.000000</td>\n",
       "      <td>1.000000</td>\n",
       "      <td>0.000000</td>\n",
       "      <td>0.000000</td>\n",
       "      <td>0</td>\n",
       "      <td>12</td>\n",
       "      <td>7500.0</td>\n",
       "      <td>622.066742</td>\n",
       "      <td>627.284787</td>\n",
       "      <td>0.000000</td>\n",
       "      <td>12</td>\n",
       "    </tr>\n",
       "    <tr>\n",
       "      <td>3</td>\n",
       "      <td>C10004</td>\n",
       "      <td>1666.670542</td>\n",
       "      <td>0.636364</td>\n",
       "      <td>1499.00</td>\n",
       "      <td>1499.00</td>\n",
       "      <td>0.0</td>\n",
       "      <td>205.788017</td>\n",
       "      <td>0.083333</td>\n",
       "      <td>0.083333</td>\n",
       "      <td>0.000000</td>\n",
       "      <td>0.083333</td>\n",
       "      <td>1</td>\n",
       "      <td>1</td>\n",
       "      <td>7500.0</td>\n",
       "      <td>0.000000</td>\n",
       "      <td>NaN</td>\n",
       "      <td>0.000000</td>\n",
       "      <td>12</td>\n",
       "    </tr>\n",
       "    <tr>\n",
       "      <td>4</td>\n",
       "      <td>C10005</td>\n",
       "      <td>817.714335</td>\n",
       "      <td>1.000000</td>\n",
       "      <td>16.00</td>\n",
       "      <td>16.00</td>\n",
       "      <td>0.0</td>\n",
       "      <td>0.000000</td>\n",
       "      <td>0.083333</td>\n",
       "      <td>0.083333</td>\n",
       "      <td>0.000000</td>\n",
       "      <td>0.000000</td>\n",
       "      <td>0</td>\n",
       "      <td>1</td>\n",
       "      <td>1200.0</td>\n",
       "      <td>678.334763</td>\n",
       "      <td>244.791237</td>\n",
       "      <td>0.000000</td>\n",
       "      <td>12</td>\n",
       "    </tr>\n",
       "  </tbody>\n",
       "</table>\n",
       "</div>"
      ],
      "text/plain": [
       "  CUST_ID      BALANCE  BALANCE_FREQUENCY  PURCHASES  ONEOFF_PURCHASES  \\\n",
       "0  C10001    40.900749           0.818182      95.40              0.00   \n",
       "1  C10002  3202.467416           0.909091       0.00              0.00   \n",
       "2  C10003  2495.148862           1.000000     773.17            773.17   \n",
       "3  C10004  1666.670542           0.636364    1499.00           1499.00   \n",
       "4  C10005   817.714335           1.000000      16.00             16.00   \n",
       "\n",
       "   INSTALLMENTS_PURCHASES  CASH_ADVANCE  PURCHASES_FREQUENCY  \\\n",
       "0                    95.4      0.000000             0.166667   \n",
       "1                     0.0   6442.945483             0.000000   \n",
       "2                     0.0      0.000000             1.000000   \n",
       "3                     0.0    205.788017             0.083333   \n",
       "4                     0.0      0.000000             0.083333   \n",
       "\n",
       "   ONEOFF_PURCHASES_FREQUENCY  PURCHASES_INSTALLMENTS_FREQUENCY  \\\n",
       "0                    0.000000                          0.083333   \n",
       "1                    0.000000                          0.000000   \n",
       "2                    1.000000                          0.000000   \n",
       "3                    0.083333                          0.000000   \n",
       "4                    0.083333                          0.000000   \n",
       "\n",
       "   CASH_ADVANCE_FREQUENCY  CASH_ADVANCE_TRX  PURCHASES_TRX  CREDIT_LIMIT  \\\n",
       "0                0.000000                 0              2        1000.0   \n",
       "1                0.250000                 4              0        7000.0   \n",
       "2                0.000000                 0             12        7500.0   \n",
       "3                0.083333                 1              1        7500.0   \n",
       "4                0.000000                 0              1        1200.0   \n",
       "\n",
       "      PAYMENTS  MINIMUM_PAYMENTS  PRC_FULL_PAYMENT  TENURE  \n",
       "0   201.802084        139.509787          0.000000      12  \n",
       "1  4103.032597       1072.340217          0.222222      12  \n",
       "2   622.066742        627.284787          0.000000      12  \n",
       "3     0.000000               NaN          0.000000      12  \n",
       "4   678.334763        244.791237          0.000000      12  "
      ]
     },
     "execution_count": 3,
     "metadata": {},
     "output_type": "execute_result"
    }
   ],
   "source": [
    "data.head()"
   ]
  },
  {
   "cell_type": "markdown",
   "metadata": {
    "colab_type": "text",
    "id": "UTTRZFQJQmXC"
   },
   "source": [
    "# Exploratory Data Analysis"
   ]
  },
  {
   "cell_type": "markdown",
   "metadata": {
    "colab_type": "text",
    "id": "qvz1x9KfO3jt"
   },
   "source": [
    "### How many rows/columns are there?"
   ]
  },
  {
   "cell_type": "code",
   "execution_count": 4,
   "metadata": {
    "colab": {
     "base_uri": "https://localhost:8080/",
     "height": 34
    },
    "colab_type": "code",
    "id": "DWzrWlMaO5_j",
    "outputId": "aaf47af9-6264-4ac1-ef6e-986eff1f6806"
   },
   "outputs": [
    {
     "data": {
      "text/plain": [
       "(8950, 18)"
      ]
     },
     "execution_count": 4,
     "metadata": {},
     "output_type": "execute_result"
    }
   ],
   "source": [
    "data.shape"
   ]
  },
  {
   "cell_type": "markdown",
   "metadata": {
    "colab_type": "text",
    "id": "0pxHHHgNOWGR"
   },
   "source": [
    "### How many customers are there?"
   ]
  },
  {
   "cell_type": "code",
   "execution_count": 6,
   "metadata": {
    "colab": {
     "base_uri": "https://localhost:8080/",
     "height": 34
    },
    "colab_type": "code",
    "id": "9ZmesyD9Onuq",
    "outputId": "f18432d0-8396-46f8-f0f7-882788c98b38"
   },
   "outputs": [
    {
     "data": {
      "text/plain": [
       "8950"
      ]
     },
     "execution_count": 6,
     "metadata": {},
     "output_type": "execute_result"
    }
   ],
   "source": [
    "data['CUST_ID'].nunique()"
   ]
  },
  {
   "cell_type": "markdown",
   "metadata": {
    "colab_type": "text",
    "id": "iU-MbVEVOwOt"
   },
   "source": [
    "This means, we have 200 unique customer IDs"
   ]
  },
  {
   "cell_type": "markdown",
   "metadata": {
    "colab_type": "text",
    "id": "YQtt1-BhOzgD"
   },
   "source": [
    "### How many of each TENURE type are there?"
   ]
  },
  {
   "cell_type": "code",
   "execution_count": 10,
   "metadata": {
    "colab": {
     "base_uri": "https://localhost:8080/",
     "height": 68
    },
    "colab_type": "code",
    "id": "KTYBVadJO2i_",
    "outputId": "0d02a908-41cb-423f-d590-c61d07235adf"
   },
   "outputs": [
    {
     "data": {
      "text/plain": [
       "12    7584\n",
       "11     365\n",
       "10     236\n",
       "6      204\n",
       "8      196\n",
       "7      190\n",
       "9      175\n",
       "Name: TENURE, dtype: int64"
      ]
     },
     "execution_count": 10,
     "metadata": {},
     "output_type": "execute_result"
    }
   ],
   "source": [
    "data['TENURE'].value_counts()"
   ]
  },
  {
   "cell_type": "markdown",
   "metadata": {
    "colab_type": "text",
    "id": "zFFgUrkzPJ3B"
   },
   "source": [
    "This means, range of tenure is 9 to 12"
   ]
  },
  {
   "cell_type": "markdown",
   "metadata": {
    "colab_type": "text",
    "id": "mLflskPqPQbO"
   },
   "source": [
    "### How does the BALANCE of our customers look like?"
   ]
  },
  {
   "cell_type": "markdown",
   "metadata": {
    "colab_type": "text",
    "id": "XJb_1fPLPZjh"
   },
   "source": [
    "Descriptive Statistics"
   ]
  },
  {
   "cell_type": "code",
   "execution_count": 12,
   "metadata": {
    "colab": {
     "base_uri": "https://localhost:8080/",
     "height": 272
    },
    "colab_type": "code",
    "id": "A0vs8-PiPcYN",
    "outputId": "e3fe23b1-bc24-4003-8018-cef900781ea1"
   },
   "outputs": [
    {
     "data": {
      "text/plain": [
       "count     8950.000000\n",
       "mean      1564.474828\n",
       "std       2081.531879\n",
       "min          0.000000\n",
       "10%         23.575529\n",
       "20%         77.238026\n",
       "30%        207.176552\n",
       "40%        467.021989\n",
       "50%        873.385231\n",
       "60%       1207.815587\n",
       "70%       1698.588855\n",
       "80%       2571.434263\n",
       "90%       4338.563657\n",
       "max      19043.138560\n",
       "Name: BALANCE, dtype: float64"
      ]
     },
     "execution_count": 12,
     "metadata": {},
     "output_type": "execute_result"
    }
   ],
   "source": [
    "data['BALANCE'].describe(np.arange(0.1, 1, 0.1))"
   ]
  },
  {
   "cell_type": "markdown",
   "metadata": {
    "colab_type": "text",
    "id": "43REfwTpPhQh"
   },
   "source": [
    "The BALANCE ranges from 0 TO 19,043 with an average (median) BALANCE is 873"
   ]
  },
  {
   "cell_type": "code",
   "execution_count": 13,
   "metadata": {
    "colab": {
     "base_uri": "https://localhost:8080/",
     "height": 296
    },
    "colab_type": "code",
    "id": "EL7nIQRzPUKr",
    "outputId": "65a008df-5992-487b-a7ef-cbb5d570c6c8"
   },
   "outputs": [
    {
     "data": {
      "text/plain": [
       "<matplotlib.axes._subplots.AxesSubplot at 0x260c8f5ca48>"
      ]
     },
     "execution_count": 13,
     "metadata": {},
     "output_type": "execute_result"
    },
    {
     "data": {
      "image/png": "[encoded data removed]",
      "text/plain": [
       "<Figure size 432x288 with 1 Axes>"
      ]
     },
     "metadata": {
      "needs_background": "light"
     },
     "output_type": "display_data"
    }
   ],
   "source": [
    "sns.distplot(data['BALANCE'], kde=False)"
   ]
  },
  {
   "cell_type": "markdown",
   "metadata": {
    "colab_type": "text",
    "id": "IUJEe9cDPX0m"
   },
   "source": [
    "### How does the CASH ADVANCE distribution look like?"
   ]
  },
  {
   "cell_type": "code",
   "execution_count": 17,
   "metadata": {
    "colab": {
     "base_uri": "https://localhost:8080/",
     "height": 272
    },
    "colab_type": "code",
    "id": "2D4DO4vYQZmX",
    "outputId": "da66d4f3-06aa-4b81-e5fc-93723f15e62c"
   },
   "outputs": [
    {
     "data": {
      "text/plain": [
       "count     8950.000000\n",
       "mean       978.871112\n",
       "std       2097.163877\n",
       "min          0.000000\n",
       "10%          0.000000\n",
       "20%          0.000000\n",
       "30%          0.000000\n",
       "40%          0.000000\n",
       "50%          0.000000\n",
       "60%        238.633724\n",
       "70%        797.272297\n",
       "80%       1574.933778\n",
       "90%       3065.534560\n",
       "max      47137.211760\n",
       "Name: CASH_ADVANCE, dtype: float64"
      ]
     },
     "execution_count": 17,
     "metadata": {},
     "output_type": "execute_result"
    }
   ],
   "source": [
    "data['CASH_ADVANCE'].describe(np.arange(0.1, 1, 0.1))"
   ]
  },
  {
   "cell_type": "code",
   "execution_count": 20,
   "metadata": {
    "colab": {
     "base_uri": "https://localhost:8080/",
     "height": 296
    },
    "colab_type": "code",
    "id": "MjgtlSe8QdGO",
    "outputId": "c3393283-44a0-43b0-d572-e49bf1d43c9c"
   },
   "outputs": [
    {
     "data": {
      "text/plain": [
       "<matplotlib.axes._subplots.AxesSubplot at 0x260c92ef408>"
      ]
     },
     "execution_count": 20,
     "metadata": {},
     "output_type": "execute_result"
    },
    {
     "data": {
      "image/png": "[encoded data removed]",
      "text/plain": [
       "<Figure size 432x288 with 1 Axes>"
      ]
     },
     "metadata": {
      "needs_background": "light"
     },
     "output_type": "display_data"
    }
   ],
   "source": [
    "sns.distplot(data['CASH_ADVANCE'], kde=False)"
   ]
  },
  {
   "cell_type": "markdown",
   "metadata": {
    "colab_type": "text",
    "id": "gJzKWhQ_Qfvx"
   },
   "source": [
    "CASH ADVANCE is highly skewed to the right (heavy on 0)."
   ]
  },
  {
   "cell_type": "markdown",
   "metadata": {
    "colab_type": "text",
    "id": "IUJEe9cDPX0m"
   },
   "source": [
    "### How does the PAYMENTS distribution look like?"
   ]
  },
  {
   "cell_type": "code",
   "execution_count": 21,
   "metadata": {
    "colab": {
     "base_uri": "https://localhost:8080/",
     "height": 272
    },
    "colab_type": "code",
    "id": "2D4DO4vYQZmX",
    "outputId": "da66d4f3-06aa-4b81-e5fc-93723f15e62c"
   },
   "outputs": [
    {
     "data": {
      "text/plain": [
       "count     8950.000000\n",
       "mean      1733.143852\n",
       "std       2895.063757\n",
       "min          0.000000\n",
       "10%        179.617069\n",
       "20%        313.141031\n",
       "30%        459.438287\n",
       "40%        624.268198\n",
       "50%        856.901546\n",
       "60%       1185.259270\n",
       "70%       1604.092113\n",
       "80%       2314.017654\n",
       "90%       3923.906642\n",
       "max      50721.483360\n",
       "Name: PAYMENTS, dtype: float64"
      ]
     },
     "execution_count": 21,
     "metadata": {},
     "output_type": "execute_result"
    }
   ],
   "source": [
    "data['PAYMENTS'].describe(np.arange(0.1, 1, 0.1))"
   ]
  },
  {
   "cell_type": "code",
   "execution_count": 22,
   "metadata": {
    "colab": {
     "base_uri": "https://localhost:8080/",
     "height": 296
    },
    "colab_type": "code",
    "id": "MjgtlSe8QdGO",
    "outputId": "c3393283-44a0-43b0-d572-e49bf1d43c9c"
   },
   "outputs": [
    {
     "data": {
      "text/plain": [
       "<matplotlib.axes._subplots.AxesSubplot at 0x260c94cbd48>"
      ]
     },
     "execution_count": 22,
     "metadata": {},
     "output_type": "execute_result"
    },
    {
     "data": {
      "image/png": "[encoded data removed]",
      "text/plain": [
       "<Figure size 432x288 with 1 Axes>"
      ]
     },
     "metadata": {
      "needs_background": "light"
     },
     "output_type": "display_data"
    }
   ],
   "source": [
    "sns.distplot(data['PAYMENTS'], kde=False)"
   ]
  },
  {
   "cell_type": "markdown",
   "metadata": {
    "colab_type": "text",
    "id": "gJzKWhQ_Qfvx"
   },
   "source": [
    "PAYMENTS is highly skewed to the right (heavy on 0)."
   ]
  },
  {
   "cell_type": "markdown",
   "metadata": {
    "colab_type": "text",
    "id": "rulXVROOQktg"
   },
   "source": [
    "# Clustering"
   ]
  },
  {
   "cell_type": "code",
   "execution_count": 29,
   "metadata": {
    "colab": {},
    "colab_type": "code",
    "id": "eh6RPPyKQqbo"
   },
   "outputs": [],
   "source": [
    "from sklearn.cluster import KMeans"
   ]
  },
  {
   "cell_type": "code",
   "execution_count": 30,
   "metadata": {
    "colab": {
     "base_uri": "https://localhost:8080/",
     "height": 204
    },
    "colab_type": "code",
    "id": "8IL-NAPHXfqY",
    "outputId": "a4942389-b46c-40a8-8df8-9b0ee2d27d20"
   },
   "outputs": [
    {
     "data": {
      "text/html": [
       "<div>\n",
       "<style scoped>\n",
       "    .dataframe tbody tr th:only-of-type {\n",
       "        vertical-align: middle;\n",
       "    }\n",
       "\n",
       "    .dataframe tbody tr th {\n",
       "        vertical-align: top;\n",
       "    }\n",
       "\n",
       "    .dataframe thead th {\n",
       "        text-align: right;\n",
       "    }\n",
       "</style>\n",
       "<table border=\"1\" class=\"dataframe\">\n",
       "  <thead>\n",
       "    <tr style=\"text-align: right;\">\n",
       "      <th></th>\n",
       "      <th>BALANCE</th>\n",
       "      <th>CASH_ADVANCE</th>\n",
       "    </tr>\n",
       "  </thead>\n",
       "  <tbody>\n",
       "    <tr>\n",
       "      <td>0</td>\n",
       "      <td>40.900749</td>\n",
       "      <td>0.000000</td>\n",
       "    </tr>\n",
       "    <tr>\n",
       "      <td>1</td>\n",
       "      <td>3202.467416</td>\n",
       "      <td>6442.945483</td>\n",
       "    </tr>\n",
       "    <tr>\n",
       "      <td>2</td>\n",
       "      <td>2495.148862</td>\n",
       "      <td>0.000000</td>\n",
       "    </tr>\n",
       "    <tr>\n",
       "      <td>3</td>\n",
       "      <td>1666.670542</td>\n",
       "      <td>205.788017</td>\n",
       "    </tr>\n",
       "    <tr>\n",
       "      <td>4</td>\n",
       "      <td>817.714335</td>\n",
       "      <td>0.000000</td>\n",
       "    </tr>\n",
       "  </tbody>\n",
       "</table>\n",
       "</div>"
      ],
      "text/plain": [
       "       BALANCE  CASH_ADVANCE\n",
       "0    40.900749      0.000000\n",
       "1  3202.467416   6442.945483\n",
       "2  2495.148862      0.000000\n",
       "3  1666.670542    205.788017\n",
       "4   817.714335      0.000000"
      ]
     },
     "execution_count": 30,
     "metadata": {},
     "output_type": "execute_result"
    }
   ],
   "source": [
    "# Get features we need\n",
    "# trial 1: 2 features only\n",
    "# features = ['Annual Income (k$)', 'Spending Score (1-100)']\n",
    "# X = data[features]\n",
    "\n",
    "\n",
    "# trial 2: 3 features\n",
    "features = ['BALANCE', 'CASH_ADVANCE']\n",
    "X = data[features]\n",
    "\n",
    "# Convert categorical to numeric\n",
    "# X = pd.get_dummies(X_raw)\n",
    "# X_raw.head()\n",
    "\n",
    "X.head()"
   ]
  },
  {
   "cell_type": "code",
   "execution_count": 31,
   "metadata": {
    "colab": {
     "base_uri": "https://localhost:8080/",
     "height": 581
    },
    "colab_type": "code",
    "id": "wz4hZn1i4hZZ",
    "outputId": "23d9eb3e-58b1-4987-9eca-4c5605c1cc7e"
   },
   "outputs": [
    {
     "name": "stdout",
     "output_type": "stream",
     "text": [
      "Requirement already satisfied: hvplot in c:\\users\\jvilladiego.000\\anaconda3\\lib\\site-packages (0.5.2)\n",
      "Requirement already satisfied: pandas in c:\\users\\jvilladiego.000\\anaconda3\\lib\\site-packages (from hvplot) (0.25.1)\n",
      "Requirement already satisfied: holoviews>=1.11.0 in c:\\users\\jvilladiego.000\\anaconda3\\lib\\site-packages (from hvplot) (1.12.7)\n",
      "Requirement already satisfied: colorcet in c:\\users\\jvilladiego.000\\anaconda3\\lib\\site-packages (from hvplot) (2.0.2)\n",
      "Requirement already satisfied: bokeh>=1.0.0 in c:\\users\\jvilladiego.000\\anaconda3\\lib\\site-packages (from hvplot) (1.3.4)\n",
      "Requirement already satisfied: python-dateutil>=2.6.1 in c:\\users\\jvilladiego.000\\anaconda3\\lib\\site-packages (from pandas->hvplot) (2.8.0)\n",
      "Requirement already satisfied: numpy>=1.13.3 in c:\\users\\jvilladiego.000\\anaconda3\\lib\\site-packages (from pandas->hvplot) (1.16.5)\n",
      "Requirement already satisfied: pytz>=2017.2 in c:\\users\\jvilladiego.000\\anaconda3\\lib\\site-packages (from pandas->hvplot) (2019.3)\n",
      "Requirement already satisfied: param<2.0,>=1.8.0 in c:\\users\\jvilladiego.000\\anaconda3\\lib\\site-packages (from holoviews>=1.11.0->hvplot) (1.9.2)\n",
      "Requirement already satisfied: pyviz-comms>=0.7.2 in c:\\users\\jvilladiego.000\\anaconda3\\lib\\site-packages (from holoviews>=1.11.0->hvplot) (0.7.2)\n",
      "Requirement already satisfied: pyct>=0.4.4 in c:\\users\\jvilladiego.000\\anaconda3\\lib\\site-packages (from colorcet->hvplot) (0.4.6)\n",
      "Requirement already satisfied: six>=1.5.2 in c:\\users\\jvilladiego.000\\anaconda3\\lib\\site-packages (from bokeh>=1.0.0->hvplot) (1.12.0)\n",
      "Requirement already satisfied: packaging>=16.8 in c:\\users\\jvilladiego.000\\anaconda3\\lib\\site-packages (from bokeh>=1.0.0->hvplot) (19.2)\n",
      "Requirement already satisfied: pillow>=4.0 in c:\\users\\jvilladiego.000\\anaconda3\\lib\\site-packages (from bokeh>=1.0.0->hvplot) (6.2.0)\n",
      "Requirement already satisfied: tornado>=4.3 in c:\\users\\jvilladiego.000\\anaconda3\\lib\\site-packages (from bokeh>=1.0.0->hvplot) (6.0.3)\n",
      "Requirement already satisfied: Jinja2>=2.7 in c:\\users\\jvilladiego.000\\anaconda3\\lib\\site-packages (from bokeh>=1.0.0->hvplot) (2.10.3)\n",
      "Requirement already satisfied: PyYAML>=3.10 in c:\\users\\jvilladiego.000\\anaconda3\\lib\\site-packages (from bokeh>=1.0.0->hvplot) (5.1.2)\n",
      "Requirement already satisfied: pyparsing>=2.0.2 in c:\\users\\jvilladiego.000\\anaconda3\\lib\\site-packages (from packaging>=16.8->bokeh>=1.0.0->hvplot) (2.4.2)\n",
      "Requirement already satisfied: MarkupSafe>=0.23 in c:\\users\\jvilladiego.000\\anaconda3\\lib\\site-packages (from Jinja2>=2.7->bokeh>=1.0.0->hvplot) (1.1.1)\n"
     ]
    }
   ],
   "source": [
    "!pip install hvplot"
   ]
  },
  {
   "cell_type": "code",
   "execution_count": 33,
   "metadata": {
    "colab": {
     "base_uri": "https://localhost:8080/",
     "height": 296
    },
    "colab_type": "code",
    "id": "WqkkvA3faEuF",
    "outputId": "2c0332e5-c9d7-4048-d6c1-2b68da62be1f"
   },
   "outputs": [
    {
     "data": {
      "text/plain": [
       "<matplotlib.axes._subplots.AxesSubplot at 0x260ca154408>"
      ]
     },
     "execution_count": 33,
     "metadata": {},
     "output_type": "execute_result"
    },
    {
     "data": {
      "image/png": "[encoded data removed]",
      "text/plain": [
       "<Figure size 432x288 with 1 Axes>"
      ]
     },
     "metadata": {
      "needs_background": "light"
     },
     "output_type": "display_data"
    }
   ],
   "source": [
    "# If you have 2 features, you can plot it on a 2D scatter plot\n",
    "\n",
    "# if more than 2 features, it's not plottable like this\n",
    "\n",
    "X.plot.scatter('BALANCE', 'CASH_ADVANCE')"
   ]
  },
  {
   "cell_type": "markdown",
   "metadata": {
    "colab_type": "text",
    "id": "cYdb620Teh-4"
   },
   "source": [
    "### Choosing Optimal *k*"
   ]
  },
  {
   "cell_type": "code",
   "execution_count": 34,
   "metadata": {
    "colab": {
     "base_uri": "https://localhost:8080/",
     "height": 282
    },
    "colab_type": "code",
    "id": "qe3aWEI0ehjG",
    "outputId": "88792cfa-8617-493b-e159-23226f81b699"
   },
   "outputs": [
    {
     "data": {
      "text/plain": [
       "[<matplotlib.lines.Line2D at 0x260ca2b2ec8>]"
      ]
     },
     "execution_count": 34,
     "metadata": {},
     "output_type": "execute_result"
    },
    {
     "data": {
      "image/png": "[encoded data removed]",
      "text/plain": [
       "<Figure size 432x288 with 1 Axes>"
      ]
     },
     "metadata": {
      "needs_background": "light"
     },
     "output_type": "display_data"
    }
   ],
   "source": [
    "# get the sum of squared errors and find where the reduction of the errors are saturated with the increase of k\n",
    "squared_errors = []\n",
    "\n",
    "for num_iter in range(1,21):\n",
    "  km = KMeans(n_clusters=num_iter, random_state=42)\n",
    "  km.fit(X)\n",
    "  squared_errors.append(km.inertia_)\n",
    "\n",
    "# check for the best k to use\n",
    "plt.plot(squared_errors, marker = 'o')"
   ]
  },
  {
   "cell_type": "markdown",
   "metadata": {
    "colab_type": "text",
    "id": "ZYTzOIoVerNG"
   },
   "source": [
    "Using the elbow method, I decided to use *k=5*."
   ]
  },
  {
   "cell_type": "code",
   "execution_count": 35,
   "metadata": {
    "colab": {},
    "colab_type": "code",
    "id": "l8QUoI4DX7Nf"
   },
   "outputs": [],
   "source": [
    "# Clustering using KMeans. We choose 5 clusters\n",
    "km = KMeans(n_clusters = 3, random_state = 42) #what is this for? How do you choose 42?\n",
    "\n",
    "# Fit data to model\n",
    "km.fit(X) #there's no Y because unsupervised learning\n",
    "\n",
    "# Get labels\n",
    "labels = km.predict(X)\n",
    "\n",
    "# Create new dataframe with features and labels\n",
    "new_data = X.copy()\n",
    "\n",
    "# Add labels to new_data dataframe\n",
    "new_data['labels'] = labels"
   ]
  },
  {
   "cell_type": "code",
   "execution_count": 36,
   "metadata": {
    "colab": {
     "base_uri": "https://localhost:8080/",
     "height": 204
    },
    "colab_type": "code",
    "id": "1gCNHjXlZQBo",
    "outputId": "5bd5db80-45ab-437c-f44c-5a9d9cbb6b78"
   },
   "outputs": [
    {
     "data": {
      "text/html": [
       "<div>\n",
       "<style scoped>\n",
       "    .dataframe tbody tr th:only-of-type {\n",
       "        vertical-align: middle;\n",
       "    }\n",
       "\n",
       "    .dataframe tbody tr th {\n",
       "        vertical-align: top;\n",
       "    }\n",
       "\n",
       "    .dataframe thead th {\n",
       "        text-align: right;\n",
       "    }\n",
       "</style>\n",
       "<table border=\"1\" class=\"dataframe\">\n",
       "  <thead>\n",
       "    <tr style=\"text-align: right;\">\n",
       "      <th></th>\n",
       "      <th>BALANCE</th>\n",
       "      <th>CASH_ADVANCE</th>\n",
       "      <th>labels</th>\n",
       "    </tr>\n",
       "  </thead>\n",
       "  <tbody>\n",
       "    <tr>\n",
       "      <td>0</td>\n",
       "      <td>40.900749</td>\n",
       "      <td>0.000000</td>\n",
       "      <td>0</td>\n",
       "    </tr>\n",
       "    <tr>\n",
       "      <td>1</td>\n",
       "      <td>3202.467416</td>\n",
       "      <td>6442.945483</td>\n",
       "      <td>1</td>\n",
       "    </tr>\n",
       "    <tr>\n",
       "      <td>2</td>\n",
       "      <td>2495.148862</td>\n",
       "      <td>0.000000</td>\n",
       "      <td>0</td>\n",
       "    </tr>\n",
       "    <tr>\n",
       "      <td>3</td>\n",
       "      <td>1666.670542</td>\n",
       "      <td>205.788017</td>\n",
       "      <td>0</td>\n",
       "    </tr>\n",
       "    <tr>\n",
       "      <td>4</td>\n",
       "      <td>817.714335</td>\n",
       "      <td>0.000000</td>\n",
       "      <td>0</td>\n",
       "    </tr>\n",
       "  </tbody>\n",
       "</table>\n",
       "</div>"
      ],
      "text/plain": [
       "       BALANCE  CASH_ADVANCE  labels\n",
       "0    40.900749      0.000000       0\n",
       "1  3202.467416   6442.945483       1\n",
       "2  2495.148862      0.000000       0\n",
       "3  1666.670542    205.788017       0\n",
       "4   817.714335      0.000000       0"
      ]
     },
     "execution_count": 36,
     "metadata": {},
     "output_type": "execute_result"
    }
   ],
   "source": [
    "new_data.head()"
   ]
  },
  {
   "cell_type": "markdown",
   "metadata": {
    "colab_type": "text",
    "id": "8jGkTtvdbGeO"
   },
   "source": [
    "### Plot Centers and labels"
   ]
  },
  {
   "cell_type": "code",
   "execution_count": 37,
   "metadata": {
    "colab": {
     "base_uri": "https://localhost:8080/",
     "height": 621
    },
    "colab_type": "code",
    "id": "ptvhMiDHZSX2",
    "outputId": "98357a48-1dbf-465a-983c-2f35dba1fc78"
   },
   "outputs": [
    {
     "ename": "SyntaxError",
     "evalue": "EOL while scanning string literal (<ipython-input-37-8429ab02fa8a>, line 10)",
     "output_type": "error",
     "traceback": [
      "\u001b[1;36m  File \u001b[1;32m\"<ipython-input-37-8429ab02fa8a>\"\u001b[1;36m, line \u001b[1;32m10\u001b[0m\n\u001b[1;33m    plt.scatter(centers[:,0],centers[:,1], s=200, color='black\u001b[0m\n\u001b[1;37m                                                              ^\u001b[0m\n\u001b[1;31mSyntaxError\u001b[0m\u001b[1;31m:\u001b[0m EOL while scanning string literal\n"
     ]
    }
   ],
   "source": [
    "# Plot data points and colorize based on label\n",
    "new_data.plot.scatter(x='Annual Income (k$)', \n",
    "                      y='Spending Score (1-100)', \n",
    "                      c='labels', \n",
    "                      cmap='viridis',\n",
    "                      figsize=(20, 10))\n",
    "\n",
    "# Get cluster centers\n",
    "centers = km.cluster_centers_\n",
    "plt.scatter(centers[:,0],centers[:,1], s=200, color='black\n",
    "            \n",
    "#question: how come if 3 feaures, the colored clustering graph still works? what's in the x axis?"
   ]
  },
  {
   "cell_type": "markdown",
   "metadata": {
    "colab_type": "text",
    "id": "I-FwRETgaoKT"
   },
   "source": [
    "# Deep Dive to each cluster"
   ]
  },
  {
   "cell_type": "code",
   "execution_count": 40,
   "metadata": {
    "colab": {
     "base_uri": "https://localhost:8080/",
     "height": 297
    },
    "colab_type": "code",
    "id": "DjCzSJYLc6Kv",
    "outputId": "80f83105-2ebf-49df-cc0e-80b84cad97da"
   },
   "outputs": [
    {
     "data": {
      "text/html": [
       "<div>\n",
       "<style scoped>\n",
       "    .dataframe tbody tr th:only-of-type {\n",
       "        vertical-align: middle;\n",
       "    }\n",
       "\n",
       "    .dataframe tbody tr th {\n",
       "        vertical-align: top;\n",
       "    }\n",
       "\n",
       "    .dataframe thead th {\n",
       "        text-align: right;\n",
       "    }\n",
       "</style>\n",
       "<table border=\"1\" class=\"dataframe\">\n",
       "  <thead>\n",
       "    <tr style=\"text-align: right;\">\n",
       "      <th></th>\n",
       "      <th>BALANCE</th>\n",
       "      <th>CASH_ADVANCE</th>\n",
       "      <th>labels</th>\n",
       "    </tr>\n",
       "  </thead>\n",
       "  <tbody>\n",
       "    <tr>\n",
       "      <td>count</td>\n",
       "      <td>7256.000000</td>\n",
       "      <td>7256.000000</td>\n",
       "      <td>7256.0</td>\n",
       "    </tr>\n",
       "    <tr>\n",
       "      <td>mean</td>\n",
       "      <td>777.895585</td>\n",
       "      <td>380.435029</td>\n",
       "      <td>0.0</td>\n",
       "    </tr>\n",
       "    <tr>\n",
       "      <td>std</td>\n",
       "      <td>809.930905</td>\n",
       "      <td>747.094558</td>\n",
       "      <td>0.0</td>\n",
       "    </tr>\n",
       "    <tr>\n",
       "      <td>min</td>\n",
       "      <td>0.000000</td>\n",
       "      <td>0.000000</td>\n",
       "      <td>0.0</td>\n",
       "    </tr>\n",
       "    <tr>\n",
       "      <td>25%</td>\n",
       "      <td>79.315030</td>\n",
       "      <td>0.000000</td>\n",
       "      <td>0.0</td>\n",
       "    </tr>\n",
       "    <tr>\n",
       "      <td>50%</td>\n",
       "      <td>482.217943</td>\n",
       "      <td>0.000000</td>\n",
       "      <td>0.0</td>\n",
       "    </tr>\n",
       "    <tr>\n",
       "      <td>75%</td>\n",
       "      <td>1258.305517</td>\n",
       "      <td>397.781810</td>\n",
       "      <td>0.0</td>\n",
       "    </tr>\n",
       "    <tr>\n",
       "      <td>max</td>\n",
       "      <td>3504.329825</td>\n",
       "      <td>5625.798427</td>\n",
       "      <td>0.0</td>\n",
       "    </tr>\n",
       "  </tbody>\n",
       "</table>\n",
       "</div>"
      ],
      "text/plain": [
       "           BALANCE  CASH_ADVANCE  labels\n",
       "count  7256.000000   7256.000000  7256.0\n",
       "mean    777.895585    380.435029     0.0\n",
       "std     809.930905    747.094558     0.0\n",
       "min       0.000000      0.000000     0.0\n",
       "25%      79.315030      0.000000     0.0\n",
       "50%     482.217943      0.000000     0.0\n",
       "75%    1258.305517    397.781810     0.0\n",
       "max    3504.329825   5625.798427     0.0"
      ]
     },
     "execution_count": 40,
     "metadata": {},
     "output_type": "execute_result"
    }
   ],
   "source": [
    "#what's the difference among the clusters? Explain.\n",
    "\n",
    "#python starts clusters with 0\n",
    "# Cluster 0\n",
    "cluster_0 = new_data[new_data['labels']==0]\n",
    "cluster_0.describe()\n",
    "\n",
    "\n",
    "#in clusters, you have to ambiguously label them. Be creative like \"Average Joe\""
   ]
  },
  {
   "cell_type": "markdown",
   "metadata": {
    "colab_type": "text",
    "id": "hnXVR-YRdgss"
   },
   "source": [
    "Cluster 0: Low balance, no cash advance"
   ]
  },
  {
   "cell_type": "code",
   "execution_count": 41,
   "metadata": {
    "colab": {
     "base_uri": "https://localhost:8080/",
     "height": 297
    },
    "colab_type": "code",
    "id": "GjJcGRJebtu6",
    "outputId": "563599e4-4b49-42ea-aa1a-38ea870328d4"
   },
   "outputs": [
    {
     "data": {
      "text/html": [
       "<div>\n",
       "<style scoped>\n",
       "    .dataframe tbody tr th:only-of-type {\n",
       "        vertical-align: middle;\n",
       "    }\n",
       "\n",
       "    .dataframe tbody tr th {\n",
       "        vertical-align: top;\n",
       "    }\n",
       "\n",
       "    .dataframe thead th {\n",
       "        text-align: right;\n",
       "    }\n",
       "</style>\n",
       "<table border=\"1\" class=\"dataframe\">\n",
       "  <thead>\n",
       "    <tr style=\"text-align: right;\">\n",
       "      <th></th>\n",
       "      <th>BALANCE</th>\n",
       "      <th>CASH_ADVANCE</th>\n",
       "      <th>labels</th>\n",
       "    </tr>\n",
       "  </thead>\n",
       "  <tbody>\n",
       "    <tr>\n",
       "      <td>count</td>\n",
       "      <td>264.000000</td>\n",
       "      <td>264.000000</td>\n",
       "      <td>264.0</td>\n",
       "    </tr>\n",
       "    <tr>\n",
       "      <td>mean</td>\n",
       "      <td>5349.091077</td>\n",
       "      <td>9674.193664</td>\n",
       "      <td>1.0</td>\n",
       "    </tr>\n",
       "    <tr>\n",
       "      <td>std</td>\n",
       "      <td>2817.992821</td>\n",
       "      <td>4545.848939</td>\n",
       "      <td>0.0</td>\n",
       "    </tr>\n",
       "    <tr>\n",
       "      <td>min</td>\n",
       "      <td>78.114579</td>\n",
       "      <td>5690.168909</td>\n",
       "      <td>1.0</td>\n",
       "    </tr>\n",
       "    <tr>\n",
       "      <td>25%</td>\n",
       "      <td>3372.882428</td>\n",
       "      <td>7017.694895</td>\n",
       "      <td>1.0</td>\n",
       "    </tr>\n",
       "    <tr>\n",
       "      <td>50%</td>\n",
       "      <td>5133.421856</td>\n",
       "      <td>8372.723669</td>\n",
       "      <td>1.0</td>\n",
       "    </tr>\n",
       "    <tr>\n",
       "      <td>75%</td>\n",
       "      <td>7128.204928</td>\n",
       "      <td>10510.775057</td>\n",
       "      <td>1.0</td>\n",
       "    </tr>\n",
       "    <tr>\n",
       "      <td>max</td>\n",
       "      <td>16304.889250</td>\n",
       "      <td>47137.211760</td>\n",
       "      <td>1.0</td>\n",
       "    </tr>\n",
       "  </tbody>\n",
       "</table>\n",
       "</div>"
      ],
      "text/plain": [
       "            BALANCE  CASH_ADVANCE  labels\n",
       "count    264.000000    264.000000   264.0\n",
       "mean    5349.091077   9674.193664     1.0\n",
       "std     2817.992821   4545.848939     0.0\n",
       "min       78.114579   5690.168909     1.0\n",
       "25%     3372.882428   7017.694895     1.0\n",
       "50%     5133.421856   8372.723669     1.0\n",
       "75%     7128.204928  10510.775057     1.0\n",
       "max    16304.889250  47137.211760     1.0"
      ]
     },
     "execution_count": 41,
     "metadata": {},
     "output_type": "execute_result"
    }
   ],
   "source": [
    "# Cluster 1 \n",
    "cluster_1 = new_data[new_data['labels']==1]\n",
    "cluster_1.describe()"
   ]
  },
  {
   "cell_type": "markdown",
   "metadata": {
    "colab_type": "text",
    "id": "TAu_kbMvdl0C"
   },
   "source": [
    "Cluster 1: High balance & High cash advance"
   ]
  },
  {
   "cell_type": "code",
   "execution_count": 43,
   "metadata": {
    "colab": {
     "base_uri": "https://localhost:8080/",
     "height": 297
    },
    "colab_type": "code",
    "id": "H5ssZ-z9bvLZ",
    "outputId": "c64aee2d-3744-4341-8c05-7637ab23920c"
   },
   "outputs": [
    {
     "data": {
      "text/html": [
       "<div>\n",
       "<style scoped>\n",
       "    .dataframe tbody tr th:only-of-type {\n",
       "        vertical-align: middle;\n",
       "    }\n",
       "\n",
       "    .dataframe tbody tr th {\n",
       "        vertical-align: top;\n",
       "    }\n",
       "\n",
       "    .dataframe thead th {\n",
       "        text-align: right;\n",
       "    }\n",
       "</style>\n",
       "<table border=\"1\" class=\"dataframe\">\n",
       "  <thead>\n",
       "    <tr style=\"text-align: right;\">\n",
       "      <th></th>\n",
       "      <th>BALANCE</th>\n",
       "      <th>CASH_ADVANCE</th>\n",
       "      <th>labels</th>\n",
       "    </tr>\n",
       "  </thead>\n",
       "  <tbody>\n",
       "    <tr>\n",
       "      <td>count</td>\n",
       "      <td>1430.000000</td>\n",
       "      <td>1430.000000</td>\n",
       "      <td>1430.0</td>\n",
       "    </tr>\n",
       "    <tr>\n",
       "      <td>mean</td>\n",
       "      <td>4856.978531</td>\n",
       "      <td>2410.120812</td>\n",
       "      <td>2.0</td>\n",
       "    </tr>\n",
       "    <tr>\n",
       "      <td>std</td>\n",
       "      <td>2388.680532</td>\n",
       "      <td>1751.895171</td>\n",
       "      <td>0.0</td>\n",
       "    </tr>\n",
       "    <tr>\n",
       "      <td>min</td>\n",
       "      <td>752.261050</td>\n",
       "      <td>0.000000</td>\n",
       "      <td>2.0</td>\n",
       "    </tr>\n",
       "    <tr>\n",
       "      <td>25%</td>\n",
       "      <td>3239.043183</td>\n",
       "      <td>789.319409</td>\n",
       "      <td>2.0</td>\n",
       "    </tr>\n",
       "    <tr>\n",
       "      <td>50%</td>\n",
       "      <td>4377.389821</td>\n",
       "      <td>2426.100283</td>\n",
       "      <td>2.0</td>\n",
       "    </tr>\n",
       "    <tr>\n",
       "      <td>75%</td>\n",
       "      <td>5852.106376</td>\n",
       "      <td>3767.025605</td>\n",
       "      <td>2.0</td>\n",
       "    </tr>\n",
       "    <tr>\n",
       "      <td>max</td>\n",
       "      <td>19043.138560</td>\n",
       "      <td>6173.682877</td>\n",
       "      <td>2.0</td>\n",
       "    </tr>\n",
       "  </tbody>\n",
       "</table>\n",
       "</div>"
      ],
      "text/plain": [
       "            BALANCE  CASH_ADVANCE  labels\n",
       "count   1430.000000   1430.000000  1430.0\n",
       "mean    4856.978531   2410.120812     2.0\n",
       "std     2388.680532   1751.895171     0.0\n",
       "min      752.261050      0.000000     2.0\n",
       "25%     3239.043183    789.319409     2.0\n",
       "50%     4377.389821   2426.100283     2.0\n",
       "75%     5852.106376   3767.025605     2.0\n",
       "max    19043.138560   6173.682877     2.0"
      ]
     },
     "execution_count": 43,
     "metadata": {},
     "output_type": "execute_result"
    }
   ],
   "source": [
    "# Cluster 2\n",
    "cluster_2 = new_data[new_data['labels']==2]\n",
    "cluster_2.describe()"
   ]
  },
  {
   "cell_type": "markdown",
   "metadata": {
    "colab_type": "text",
    "id": "_5ypez6tdxis"
   },
   "source": [
    "Cluster 2: Mid balance, mid cash advance\n",
    "\n",
    "\n",
    "\n",
    "# Cluster 3\n",
    "cluster_3 = new_data[new_data['labels']==3]\n",
    "cluster_3.describe()"
   ]
  },
  {
   "cell_type": "markdown",
   "metadata": {
    "colab_type": "text",
    "id": "6AudyQ7Pd1TP"
   },
   "source": [
    "Cluster 3: Low Income & High Spend\n",
    "\n",
    "If 3 features (income, spending score, age):\n",
    "Cluster 3: The saktong ninongs and ninangs: Mid income, mid spend, mid-life crisis"
   ]
  },
  {
   "cell_type": "code",
   "execution_count": 44,
   "metadata": {
    "colab": {
     "base_uri": "https://localhost:8080/",
     "height": 297
    },
    "colab_type": "code",
    "id": "u_Kuic6kcvmu",
    "outputId": "8e0ecad8-b771-4a80-e27b-600437dacb51"
   },
   "outputs": [
    {
     "data": {
      "text/html": [
       "<div>\n",
       "<style scoped>\n",
       "    .dataframe tbody tr th:only-of-type {\n",
       "        vertical-align: middle;\n",
       "    }\n",
       "\n",
       "    .dataframe tbody tr th {\n",
       "        vertical-align: top;\n",
       "    }\n",
       "\n",
       "    .dataframe thead th {\n",
       "        text-align: right;\n",
       "    }\n",
       "</style>\n",
       "<table border=\"1\" class=\"dataframe\">\n",
       "  <thead>\n",
       "    <tr style=\"text-align: right;\">\n",
       "      <th></th>\n",
       "      <th>BALANCE</th>\n",
       "      <th>CASH_ADVANCE</th>\n",
       "      <th>labels</th>\n",
       "    </tr>\n",
       "  </thead>\n",
       "  <tbody>\n",
       "    <tr>\n",
       "      <td>count</td>\n",
       "      <td>0.0</td>\n",
       "      <td>0.0</td>\n",
       "      <td>0.0</td>\n",
       "    </tr>\n",
       "    <tr>\n",
       "      <td>mean</td>\n",
       "      <td>NaN</td>\n",
       "      <td>NaN</td>\n",
       "      <td>NaN</td>\n",
       "    </tr>\n",
       "    <tr>\n",
       "      <td>std</td>\n",
       "      <td>NaN</td>\n",
       "      <td>NaN</td>\n",
       "      <td>NaN</td>\n",
       "    </tr>\n",
       "    <tr>\n",
       "      <td>min</td>\n",
       "      <td>NaN</td>\n",
       "      <td>NaN</td>\n",
       "      <td>NaN</td>\n",
       "    </tr>\n",
       "    <tr>\n",
       "      <td>25%</td>\n",
       "      <td>NaN</td>\n",
       "      <td>NaN</td>\n",
       "      <td>NaN</td>\n",
       "    </tr>\n",
       "    <tr>\n",
       "      <td>50%</td>\n",
       "      <td>NaN</td>\n",
       "      <td>NaN</td>\n",
       "      <td>NaN</td>\n",
       "    </tr>\n",
       "    <tr>\n",
       "      <td>75%</td>\n",
       "      <td>NaN</td>\n",
       "      <td>NaN</td>\n",
       "      <td>NaN</td>\n",
       "    </tr>\n",
       "    <tr>\n",
       "      <td>max</td>\n",
       "      <td>NaN</td>\n",
       "      <td>NaN</td>\n",
       "      <td>NaN</td>\n",
       "    </tr>\n",
       "  </tbody>\n",
       "</table>\n",
       "</div>"
      ],
      "text/plain": [
       "       BALANCE  CASH_ADVANCE  labels\n",
       "count      0.0           0.0     0.0\n",
       "mean       NaN           NaN     NaN\n",
       "std        NaN           NaN     NaN\n",
       "min        NaN           NaN     NaN\n",
       "25%        NaN           NaN     NaN\n",
       "50%        NaN           NaN     NaN\n",
       "75%        NaN           NaN     NaN\n",
       "max        NaN           NaN     NaN"
      ]
     },
     "execution_count": 44,
     "metadata": {},
     "output_type": "execute_result"
    }
   ],
   "source": [
    "# Cluster 4\n",
    "cluster_4 = new_data[new_data['labels']==4]\n",
    "cluster_4.describe()"
   ]
  },
  {
   "cell_type": "markdown",
   "metadata": {
    "colab_type": "text",
    "id": "izqksJNBd5sp"
   },
   "source": [
    "Cluster 4: stopped"
   ]
  },
  {
   "cell_type": "markdown",
   "metadata": {
    "colab_type": "text",
    "id": "yV5oJTShfFie"
   },
   "source": [
    "# Exercise: Add more features to X and see the results of the clusters."
   ]
  },
  {
   "cell_type": "markdown",
   "metadata": {
    "colab_type": "text",
    "id": "beVy_W7J3tTG"
   },
   "source": [
    "# Explore [Agglomerative Clustering](https://colab.research.google.com/drive/1IcjI_ac1gNipwTZv3WYYzeQNx-arqRl7)\n"
   ]
  },
  {
   "cell_type": "markdown",
   "metadata": {
    "colab_type": "text",
    "id": "qivPXosmD6ay"
   },
   "source": [
    "# Homework: Perform Clustering on [Credit Card Dataset](https://drive.google.com/file/d/1EtH7Y4Y8zVcUWj9y3EnU1i7Vx2By2_LI/view?usp=sharing)."
   ]
  }
 ],
 "metadata": {
  "colab": {
   "collapsed_sections": [],
   "name": "IntroClustering.ipynb",
   "provenance": [],
   "toc_visible": true
  },
  "kernelspec": {
   "display_name": "Python 3",
   "language": "python",
   "name": "python3"
  },
  "language_info": {
   "codemirror_mode": {
    "name": "ipython",
    "version": 3
   },
   "file_extension": ".py",
   "mimetype": "text/x-python",
   "name": "python",
   "nbconvert_exporter": "python",
   "pygments_lexer": "ipython3",
   "version": "3.7.4"
  }
 },
 "nbformat": 4,
 "nbformat_minor": 1
}
